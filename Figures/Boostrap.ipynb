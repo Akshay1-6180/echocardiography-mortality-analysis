{
 "cells": [
  {
   "cell_type": "code",
   "execution_count": 14,
   "id": "bac83987-9e71-44c2-9e3b-457c1216d115",
   "metadata": {},
   "outputs": [
    {
     "data": {
      "text/plain": [
       "<Figure size 864x504 with 0 Axes>"
      ]
     },
     "metadata": {},
     "output_type": "display_data"
    }
   ],
   "source": [
    "import pickle\n",
    "import pandas as pd\n",
    "import seaborn as sns\n",
    "import numpy as np\n",
    "import matplotlib.pyplot as plt\n",
    "from tqdm import tqdm\n",
    "from sklearn.metrics import roc_auc_score\n"
   ]
  },
  {
   "cell_type": "code",
   "execution_count": 35,
   "id": "8d113ed5-e3f1-454d-8701-a1d7fec28420",
   "metadata": {},
   "outputs": [
    {
     "name": "stderr",
     "output_type": "stream",
     "text": [
      "100%|█████████████████████████████████████████████████████████████████████████████████████████████████████████████████████████████████████████| 10000/10000 [00:16<00:00, 591.25it/s]\n",
      "100%|█████████████████████████████████████████████████████████████████████████████████████████████████████████████████████████████████████████| 10000/10000 [00:16<00:00, 592.59it/s]\n",
      "100%|█████████████████████████████████████████████████████████████████████████████████████████████████████████████████████████████████████████| 10000/10000 [00:17<00:00, 587.97it/s]\n",
      "100%|█████████████████████████████████████████████████████████████████████████████████████████████████████████████████████████████████████████| 10000/10000 [00:16<00:00, 596.47it/s]\n",
      "100%|█████████████████████████████████████████████████████████████████████████████████████████████████████████████████████████████████████████| 10000/10000 [00:17<00:00, 588.00it/s]\n",
      "100%|█████████████████████████████████████████████████████████████████████████████████████████████████████████████████████████████████████████| 10000/10000 [00:16<00:00, 589.55it/s]\n"
     ]
    },
    {
     "name": "stdout",
     "output_type": "stream",
     "text": [
      "(60000, 4)\n"
     ]
    }
   ],
   "source": [
    "# set models and labels\n",
    "time_points = ['1_year', '3_year', '5_year']\n",
    "models = ['catboost', 'resnet']\n",
    "iteration_num = 1000 # iteration times\n",
    "\n",
    "auc_dict = {\n",
    "    'model': [],\n",
    "    'timestamp': [],\n",
    "    'auroc': [],\n",
    "    'random_seed': []\n",
    "}\n",
    "\n",
    "for model in models:\n",
    "    for time_point in time_points:\n",
    "        auc_list = []\n",
    "        random_list = []\n",
    "        with tqdm(total=iteration_num) as pbar:\n",
    "            result_df = pd.read_csv(\"/data/padmalab/echo/data/processed/AUROC/\"+time_point+\"_mortality_probability_\"+model+\".csv\")\n",
    "            for i in range(iteration_num):\n",
    "                '''\n",
    "                Key for boostrap, sample for N times with replacement\n",
    "                '''\n",
    "                sample_df = result_df.sample(n=result_df.shape[0], replace=True, random_state=i)\n",
    "                auc = roc_auc_score(sample_df['ground_truth'].tolist(), sample_df['class_1_prob'].tolist())\n",
    "                auc_list.append(auc)\n",
    "                random_list.append(i)\n",
    "                pbar.update(1)\n",
    "            \n",
    "        auc_dict['model'].extend([model]*iteration_num)\n",
    "        auc_dict['timestamp'].extend([time_point]*iteration_num)\n",
    "        auc_dict['auroc'].extend(auc_list)\n",
    "        auc_dict['random_seed'].extend(random_list)\n",
    "        \n",
    "        # create the dataframe\n",
    "\n",
    "df = pd.DataFrame.from_dict(auc_dict)\n",
    "print (df.shape)"
   ]
  },
  {
   "cell_type": "markdown",
   "id": "2a76f446-65b6-4a5c-94a2-e5b547f69f0e",
   "metadata": {},
   "source": [
    "Draw the plots"
   ]
  },
  {
   "cell_type": "code",
   "execution_count": 36,
   "id": "3da132a6-dbf0-49aa-886d-6fea9c0ae982",
   "metadata": {},
   "outputs": [
    {
     "data": {
      "image/png": "[encoded data removed]",
      "text/plain": [
       "<Figure size 864x504 with 1 Axes>"
      ]
     },
     "metadata": {},
     "output_type": "display_data"
    }
   ],
   "source": [
    "\n",
    "sns.set_theme(style=\"darkgrid\")\n",
    "\n",
    "plt.figure(figsize=(12,7))\n",
    "\n",
    "colors = ['#ff7f00','#377eb8', '#e41a1c',  '#984ea3', '#4daf4a']\n",
    "\n",
    "barWidth = 0.15\n",
    "br1 = np.arange(len(time_points))\n",
    "br_list = [br1]\n",
    "for i in range(len(models)):\n",
    "    br1 = br_list[-1]\n",
    "    br_list.append([x + barWidth for x in br1])\n",
    "\n",
    "for index in range(len(models)):\n",
    "    model = models[index]\n",
    "    means = []\n",
    "    ci_lists = []\n",
    "    for time_point in time_points:\n",
    "        auc = df[(df['model'] == model) & (df['timestamp'] == time_point)]['auroc'].to_list()\n",
    "        means.append(np.mean(auc))\n",
    "        '''\n",
    "        Calculate 2.5 - 97.5 quartile as error bar\n",
    "        '''\n",
    "        lower_quartile = np.mean(auc) - np.percentile(auc, 2.5, axis=0)\n",
    "        upper_quartile = np.percentile(auc, 97.5, axis=0) - np.mean(auc)\n",
    "        \n",
    "        ci_lists.append([lower_quartile,upper_quartile])\n",
    "    plt.bar(br_list[index], means, yerr=np.array(ci_lists).T, color = colors[index], width = barWidth, \n",
    "            edgecolor ='grey', label =model, capsize=12)\n",
    "\n",
    "plt.xlabel('Time Point', fontweight ='bold', fontsize = 14)\n",
    "plt.ylabel('AUROC', fontweight ='bold', fontsize = 14)\n",
    "plt.xticks([r + .5* barWidth for r in range(3)],\n",
    "        ['1-year', '3-years', '5-years'])\n",
    "plt.ylim(0.50, 1)\n",
    "plt.legend(fontsize = 12)\n",
    "plt.show()"
   ]
  }
 ],
 "metadata": {
  "kernelspec": {
   "display_name": "Python 3 (ipykernel)",
   "language": "python",
   "name": "python3"
  },
  "language_info": {
   "codemirror_mode": {
    "name": "ipython",
    "version": 3
   },
   "file_extension": ".py",
   "mimetype": "text/x-python",
   "name": "python",
   "nbconvert_exporter": "python",
   "pygments_lexer": "ipython3",
   "version": "3.8.12"
  }
 },
 "nbformat": 4,
 "nbformat_minor": 5
}
