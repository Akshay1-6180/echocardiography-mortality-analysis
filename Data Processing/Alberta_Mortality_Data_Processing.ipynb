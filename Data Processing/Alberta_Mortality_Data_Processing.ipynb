{
 "cells": [
  {
   "cell_type": "code",
   "execution_count": 1,
   "id": "false-atlantic",
   "metadata": {},
   "outputs": [],
   "source": [
    "import os\n",
    "import json\n",
    "import numpy as np\n",
    "import pandas as pd\n",
    "import random\n",
    "import missingno as msno\n",
    "from bokeh.io import output_file, show , output_notebook\n",
    "from bokeh.plotting import figure\n",
    "from bokeh.models import ColumnDataSource,  LabelSet\n",
    "from bokeh.palettes import Viridis256,all_palettes,BrBG, PiYG, RdGy, RdYlGn, YlGnBu, PuBuGn, Colorblind, Bokeh,Category20,Accent\n",
    "import matplotlib.pyplot as plt\n",
    "import seaborn as sn"
   ]
  },
  {
   "cell_type": "code",
   "execution_count": 2,
   "id": "progressive-bulgaria",
   "metadata": {},
   "outputs": [],
   "source": [
    "total = os.listdir(\"data/A4C/\")"
   ]
  },
  {
   "cell_type": "code",
   "execution_count": 3,
   "id": "dimensional-optimization",
   "metadata": {},
   "outputs": [],
   "source": [
    "root = \"\""
   ]
  },
  {
   "cell_type": "code",
   "execution_count": 4,
   "id": "integral-railway",
   "metadata": {},
   "outputs": [],
   "source": [
    "def get_train_val_dataset(MasterData):\n",
    "    baseline = MasterData.loc[MasterData['Event_Name']=='Baseline'].reset_index(drop=True)\n",
    "    baseline = baseline.sort_values(by=['PatientID']).reset_index(drop=True)\n",
    "    after_event = MasterData.loc[MasterData['Event_Name']=='12 month'].reset_index(drop=True)\n",
    "    after_event = after_event.sort_values(by=['PatientID']).reset_index(drop=True)\n",
    "    \n",
    "    Dataframe = baseline.copy(deep=True)\n",
    "    Dataframe['LVEF_label'] = after_event['Ef'].values\n",
    "\n",
    "    gender = []\n",
    "    for i in range(len(Dataframe)):\n",
    "        if(Dataframe['gender'][i]=='Male' or Dataframe['gender'][i]==1):\n",
    "            gender.append(1)\n",
    "        else:\n",
    "            gender.append(0)\n",
    "            \n",
    "    Dataframe['gender'] = gender\n",
    "    Dataframe['change_in_LVEF'] = Dataframe['LVEF_label'] - Dataframe['Ef']\n",
    "    Dataframe['change_in_LVEF(in%)'] = ((Dataframe['LVEF_label'] - Dataframe['Ef'])/Dataframe['Ef'])*100\n",
    "    Dataframe['absolute_change_in_LVEF(in%)'] = abs(((Dataframe['LVEF_label'] - Dataframe['Ef'])/Dataframe['Ef'])*100)\n",
    "\n",
    "    class_label = []\n",
    "    for i in range(len(Dataframe)):\n",
    "        if(Dataframe['change_in_LVEF(in%)'][i]<-5):\n",
    "            class_label.append(1)\n",
    "        elif (Dataframe['change_in_LVEF(in%)'][i]>5):\n",
    "            class_label.append(2)\n",
    "        else:\n",
    "            class_label.append(0)\n",
    "\n",
    "    Dataframe['class'] = class_label\n",
    "\n",
    "    print(\"total class 0 is\" ,len(Dataframe.loc[Dataframe['class']==0]))\n",
    "    print(\"total class 1 is\" ,len(Dataframe.loc[Dataframe['class']==1]))\n",
    "    print(\"total class 2 is\" ,len(Dataframe.loc[Dataframe['class']==2]))\n",
    "\n",
    "    print(\"train set should contain\",len(Dataframe)*.8)\n",
    "    print(\"test set should contain\",len(Dataframe)*.20)\n",
    "    return Dataframe"
   ]
  },
  {
   "cell_type": "markdown",
   "id": "introductory-boundary",
   "metadata": {},
   "source": [
    "# Creating the Data"
   ]
  },
  {
   "cell_type": "markdown",
   "id": "patient-industry",
   "metadata": {},
   "source": [
    "<b> Getting the visit data in Alberta"
   ]
  },
  {
   "cell_type": "code",
   "execution_count": 5,
   "id": "minus-spice",
   "metadata": {},
   "outputs": [
    {
     "name": "stdout",
     "output_type": "stream",
     "text": [
      "1111 621\n",
      "The null values in each column is \n",
      "  Obs                       0\n",
      "StudyNumber               0\n",
      "EventName                 0\n",
      "Gender                    0\n",
      "AgeatEnrollment           0\n",
      "Heightcm                 73\n",
      "Weightkg                 73\n",
      "BSAm2                    73\n",
      "IVSdcm                   81\n",
      "LVIDdcm                  81\n",
      "LVPWdcm                  81\n",
      "LVIDscm                 105\n",
      "LVMI                     92\n",
      "LAVI                    147\n",
      "LVEDV MOD Bip (mL)      157\n",
      "LVESV MOD Bip (mL)      152\n",
      "LVEF                    156\n",
      "MV-E (cm/sec)           618\n",
      "MV-A (cm/sec)           692\n",
      "EAratio                 285\n",
      "MVDecT (ms)             263\n",
      "PWTDI e' lateral        197\n",
      "PWTDI e' septal         183\n",
      "TAPSEmm                 345\n",
      "TrVmax m/sec            582\n",
      "RVSPTRmmHg              968\n",
      "Ad                      724\n",
      "LAVolume2Dml            655\n",
      "ASeptalcms              692\n",
      "SSeptalcms              633\n",
      "ALateralcms             697\n",
      "SLateralcms             891\n",
      "LVOTDiametercm          656\n",
      "LVOTVTIcm               619\n",
      "AVPeakGradientmmHg      634\n",
      "AVMeanGradientmmHg      646\n",
      "LVMassg                 617\n",
      "Unnamed: 37            1111\n",
      "RVdbasalcm              672\n",
      "RVDiametercm            675\n",
      "TVScms                  686\n",
      "MaxScms                 806\n",
      "IVRTms                  665\n",
      "LAAreacm2              1074\n",
      "RVSPmmHg                727\n",
      "EWaveMaxVelocitycms     745\n",
      "AWaveMaxVelocitycms     786\n",
      "Decelerationms          750\n",
      "dtype: int64\n"
     ]
    }
   ],
   "source": [
    "masterdata = pd.read_csv(root + 'Cleaned AH dataset ymh.csv' )\n",
    "masterdata = masterdata.replace(r'^\\s*.$', np.nan, regex=True)\n",
    "\n",
    "print(len(masterdata),len(masterdata['StudyNumber'].unique()))\n",
    "for i in range(len(masterdata)):\n",
    "    if(masterdata['Gender'].isnull()[i]):\n",
    "        masterdata.at[i,'Gender'] = masterdata['Gender'][i-1]\n",
    "        masterdata.at[i,'AgeatEnrollment'] = int(masterdata['AgeatEnrollment'][i-1]) + 1\n",
    "print(\"The null values in each column is \\n \" , masterdata.isna().sum())\n",
    "masterdata = masterdata.sort_values(by=['StudyNumber','EventName']).reset_index(drop=True)\n",
    "\n",
    "masterdata_all = pd.read_csv(root + 'Alberta_all_data.csv' )\n",
    "masterdata_date = masterdata_all[['DateofABHClinicVisitddmmyyyy','StudyNumber', 'EventName']]\n",
    "masterdata_date = masterdata_date.sort_values(by=['StudyNumber','EventName']).reset_index(drop=True)\n",
    "masterdata['visit_date'] = masterdata_date['DateofABHClinicVisitddmmyyyy'].values"
   ]
  },
  {
   "cell_type": "markdown",
   "id": "victorian-climate",
   "metadata": {},
   "source": [
    "<b> Working with the mortality Data"
   ]
  },
  {
   "cell_type": "code",
   "execution_count": 6,
   "id": "western-checklist",
   "metadata": {},
   "outputs": [],
   "source": [
    "#masterdata = masterdata.drop_duplicates(subset='StudyNumber', keep=\"first\").reset_index(drop=True)\n",
    "#masterdata_mortality = pd.read_csv('ECHO_mortaility.csv')\n",
    "masterdata_mortality = pd.read_csv('Alberta_mortality_latest_comb.csv')\n",
    "masterdata_mortality.head()\n",
    "death_date = {}\n",
    "for i in range(len(masterdata)):\n",
    "    try:\n",
    "        death_date[masterdata['StudyNumber'][i]] = masterdata_mortality.loc[masterdata_mortality['Study_ID']==masterdata['StudyNumber'][i]].iloc[0]['date_death']\n",
    "    except IndexError:\n",
    "        death_date[masterdata['StudyNumber'][i]] = np.nan\n",
    "#sanity check\n",
    "dates = []\n",
    "for pid in masterdata['StudyNumber'].values:\n",
    "    dates.append(death_date[pid])\n",
    "masterdata['death_date'] = dates"
   ]
  },
  {
   "cell_type": "markdown",
   "id": "individual-outdoors",
   "metadata": {},
   "source": [
    "<b> Geting the days_to_event"
   ]
  },
  {
   "cell_type": "code",
   "execution_count": 7,
   "id": "significant-surname",
   "metadata": {},
   "outputs": [],
   "source": [
    "days_all = []\n",
    "days = []\n",
    "study_end_date = pd.to_datetime('2020-03-31')\n",
    "for i in range(len(masterdata)):\n",
    "    visit_date = pd.to_datetime(masterdata['visit_date'][i],dayfirst=True)\n",
    "    death_date = pd.to_datetime(masterdata['death_date'][i],dayfirst=True)\n",
    "    days.append((death_date - visit_date).days)\n",
    "    if(masterdata.iloc[i].isnull()['death_date']):\n",
    "        days_all.append((study_end_date-visit_date).days)\n",
    "    else:\n",
    "        days_all.append((death_date - visit_date).days)\n",
    "masterdata['days_to_event'] = days\n",
    "masterdata['days_to_event(all)'] = days_all\n",
    "#days_to_event(all) has the final date as March 31 2017 for people who didnt die\n",
    "#'DA0338' had a wrong visit date\n",
    "masterdata = masterdata.loc[masterdata['days_to_event(all)']>0].reset_index(drop=True)"
   ]
  },
  {
   "cell_type": "code",
   "execution_count": 8,
   "id": "dress-reducing",
   "metadata": {},
   "outputs": [
    {
     "data": {
      "text/plain": [
       "array([[<AxesSubplot:title={'center':'days_to_event'}>]], dtype=object)"
      ]
     },
     "execution_count": 8,
     "metadata": {},
     "output_type": "execute_result"
    },
    {
     "data": {
      "image/png": "[encoded data removed]",
      "text/plain": [
       "<Figure size 360x360 with 1 Axes>"
      ]
     },
     "metadata": {
      "needs_background": "light"
     },
     "output_type": "display_data"
    }
   ],
   "source": [
    "masterdata.loc[masterdata[\"days_to_event\"].notnull()][[\"days_to_event\"]].hist(figsize=(5, 5))"
   ]
  },
  {
   "cell_type": "code",
   "execution_count": 9,
   "id": "statewide-regular",
   "metadata": {},
   "outputs": [
    {
     "data": {
      "text/plain": [
       "array([[<AxesSubplot:title={'center':'days_to_event(all)'}>]],\n",
       "      dtype=object)"
      ]
     },
     "execution_count": 9,
     "metadata": {},
     "output_type": "execute_result"
    },
    {
     "data": {
      "image/png": "[encoded data removed]",
      "text/plain": [
       "<Figure size 360x360 with 1 Axes>"
      ]
     },
     "metadata": {
      "needs_background": "light"
     },
     "output_type": "display_data"
    }
   ],
   "source": [
    "masterdata.loc[masterdata[\"days_to_event(all)\"].notnull()][[\"days_to_event(all)\"]].hist(figsize=(5, 5))"
   ]
  },
  {
   "cell_type": "code",
   "execution_count": 10,
   "id": "wound-steel",
   "metadata": {},
   "outputs": [],
   "source": [
    "masterdata.to_csv(\"Generated_csv_files/Alberta_features.csv\")"
   ]
  },
  {
   "cell_type": "code",
   "execution_count": 11,
   "id": "official-irish",
   "metadata": {},
   "outputs": [
    {
     "data": {
      "text/plain": [
       "1110"
      ]
     },
     "execution_count": 11,
     "metadata": {},
     "output_type": "execute_result"
    }
   ],
   "source": [
    "len(masterdata['StudyNumber'])"
   ]
  },
  {
   "cell_type": "markdown",
   "id": "going-teaching",
   "metadata": {},
   "source": [
    "<b> Getting the Video Information"
   ]
  },
  {
   "cell_type": "code",
   "execution_count": 12,
   "id": "adaptive-rochester",
   "metadata": {},
   "outputs": [],
   "source": [
    "extension = \".json\"\n",
    "null_id = []\n",
    "video_id = []\n",
    "heart_rate = []\n",
    "BSA = []\n",
    "AlbertaData = masterdata.copy(deep=True)\n",
    "frames = 16\n",
    "data_pid = []\n",
    "for i in range(len(AlbertaData)):\n",
    "    PID = AlbertaData['StudyNumber'][i][2:]\n",
    "    if(AlbertaData['StudyNumber'][i][:2]=='DA' and AlbertaData['EventName'][i]=='Baseline'):\n",
    "        pid = '01 ' + PID       \n",
    "    elif(AlbertaData['StudyNumber'][i][:2]=='DA' and AlbertaData['EventName'][i]=='12 month'):\n",
    "        pid = '01 ' + PID + ' 12M'\n",
    "    elif(AlbertaData['StudyNumber'][i][:2]=='DB' and AlbertaData['EventName'][i]=='Baseline'):\n",
    "        pid = '02-' + PID + '-base'\n",
    "    elif(AlbertaData['StudyNumber'][i][:2]=='DB' and AlbertaData['EventName'][i]=='12 month'):\n",
    "        pid = '02-' + PID + '-yr'\n",
    "                 \n",
    "    data_path = os.path.join(root + 'data/A4C',pid)\n",
    "    data_pid.append(pid)\n",
    "    try:\n",
    "        files = os.listdir(data_path)\n",
    "        max_prob = 0\n",
    "        max_prob_id = np.nan\n",
    "        json_heart_rate = np.nan\n",
    "        json_BSA = np.nan\n",
    "        for f in files:\n",
    "            if(extension in f):\n",
    "                json_path = os.path.join(data_path,f)\n",
    "                with open(json_path) as f:\n",
    "                    json_info = json.load(f)\n",
    "                    if(max_prob<json_info['classification']['prob'] and json_info['media']['n_frames']>=frames):\n",
    "                        max_prob = json_info['classification']['prob']\n",
    "                        max_prob_id = json_info['id']\n",
    "                        json_heart_rate = json_info['tags']['HeartRate']\n",
    "                        json_BSA = json_info['study']['BSA']\n",
    "        video_id.append(max_prob_id)\n",
    "        heart_rate.append(json_heart_rate)\n",
    "        BSA.append(json_BSA)\n",
    "    except FileNotFoundError:\n",
    "        video_id.append(np.nan)\n",
    "        heart_rate.append(np.nan)\n",
    "        null_id.append(AlbertaData['StudyNumber'][i])\n",
    "        BSA.append(np.nan)"
   ]
  },
  {
   "cell_type": "code",
   "execution_count": 13,
   "id": "ahead-nation",
   "metadata": {},
   "outputs": [
    {
     "name": "stdout",
     "output_type": "stream",
     "text": [
      "Obs                       0\n",
      "StudyNumber               0\n",
      "EventName                 0\n",
      "Gender                    0\n",
      "AgeatEnrollment           0\n",
      "Heightcm                 72\n",
      "Weightkg                 72\n",
      "BSAm2                    72\n",
      "IVSdcm                   80\n",
      "LVIDdcm                  80\n",
      "LVPWdcm                  80\n",
      "LVIDscm                 104\n",
      "LVMI                     91\n",
      "LAVI                    146\n",
      "LVEDV MOD Bip (mL)      156\n",
      "LVESV MOD Bip (mL)      151\n",
      "LVEF                    155\n",
      "MV-E (cm/sec)           617\n",
      "MV-A (cm/sec)           691\n",
      "EAratio                 284\n",
      "MVDecT (ms)             262\n",
      "PWTDI e' lateral        196\n",
      "PWTDI e' septal         182\n",
      "TAPSEmm                 344\n",
      "TrVmax m/sec            581\n",
      "RVSPTRmmHg              967\n",
      "Ad                      723\n",
      "LAVolume2Dml            654\n",
      "ASeptalcms              691\n",
      "SSeptalcms              632\n",
      "ALateralcms             696\n",
      "SLateralcms             890\n",
      "LVOTDiametercm          655\n",
      "LVOTVTIcm               618\n",
      "AVPeakGradientmmHg      633\n",
      "AVMeanGradientmmHg      645\n",
      "LVMassg                 616\n",
      "Unnamed: 37            1110\n",
      "RVdbasalcm              671\n",
      "RVDiametercm            674\n",
      "TVScms                  685\n",
      "MaxScms                 805\n",
      "IVRTms                  664\n",
      "LAAreacm2              1073\n",
      "RVSPmmHg                726\n",
      "EWaveMaxVelocitycms     744\n",
      "AWaveMaxVelocitycms     785\n",
      "Decelerationms          749\n",
      "visit_date                0\n",
      "death_date              823\n",
      "days_to_event           823\n",
      "days_to_event(all)        0\n",
      "A4C_video_path          122\n",
      "heart_rate              122\n",
      "fileID                    0\n",
      "dtype: int64\n"
     ]
    }
   ],
   "source": [
    "AlbertaData['A4C_video_path'] = video_id\n",
    "AlbertaData['heart_rate'] = heart_rate\n",
    "AlbertaData['fileID'] = data_pid\n",
    "print(AlbertaData.isnull().sum(axis = 0))"
   ]
  },
  {
   "cell_type": "code",
   "execution_count": 14,
   "id": "pretty-producer",
   "metadata": {},
   "outputs": [],
   "source": [
    "extension = \".json\"\n",
    "null_id = []\n",
    "video_id = []\n",
    "heart_rate = []\n",
    "BSA = []\n",
    "AlbertaData = AlbertaData.copy(deep=True)\n",
    "frames = 16\n",
    "for i in range(len(AlbertaData)):\n",
    "    PID = AlbertaData['StudyNumber'][i][2:]\n",
    "    if(AlbertaData['StudyNumber'][i][:2]=='DA' and AlbertaData['EventName'][i]=='Baseline'):\n",
    "        pid = '01 ' + PID       \n",
    "    elif(AlbertaData['StudyNumber'][i][:2]=='DA' and AlbertaData['EventName'][i]=='12 month'):\n",
    "        pid = '01 ' + PID + ' 12M'\n",
    "    elif(AlbertaData['StudyNumber'][i][:2]=='DB' and AlbertaData['EventName'][i]=='Baseline'):\n",
    "        pid = '02-' + PID + '-base'\n",
    "    elif(AlbertaData['StudyNumber'][i][:2]=='DB' and AlbertaData['EventName'][i]=='12 month'):\n",
    "        pid = '02-' + PID + '-yr'\n",
    "                 \n",
    "    data_path = os.path.join(root + 'data/PLAX',pid)\n",
    "    try:\n",
    "        files = os.listdir(data_path)\n",
    "        max_prob = 0\n",
    "        max_prob_id = np.nan\n",
    "        json_heart_rate = np.nan\n",
    "        json_BSA = np.nan\n",
    "        for f in files:\n",
    "            if(extension in f):\n",
    "                json_path = os.path.join(data_path,f)\n",
    "                with open(json_path) as f:\n",
    "                    json_info = json.load(f)\n",
    "                    if(max_prob<json_info['classification']['prob'] and json_info['media']['n_frames']>=frames):\n",
    "                        max_prob = json_info['classification']['prob']\n",
    "                        max_prob_id = json_info['id']\n",
    "                        json_heart_rate = json_info['tags']['HeartRate']\n",
    "                        json_BSA = json_info['study']['BSA']\n",
    "        video_id.append(max_prob_id)\n",
    "        heart_rate.append(json_heart_rate)\n",
    "        BSA.append(json_BSA)\n",
    "    except FileNotFoundError:\n",
    "        video_id.append(np.nan)\n",
    "        heart_rate.append(np.nan)\n",
    "        null_id.append(AlbertaData['StudyNumber'][i])\n",
    "        BSA.append(np.nan)"
   ]
  },
  {
   "cell_type": "code",
   "execution_count": 15,
   "id": "confidential-accuracy",
   "metadata": {},
   "outputs": [
    {
     "name": "stdout",
     "output_type": "stream",
     "text": [
      "Obs                       0\n",
      "StudyNumber               0\n",
      "EventName                 0\n",
      "Gender                    0\n",
      "AgeatEnrollment           0\n",
      "Heightcm                 72\n",
      "Weightkg                 72\n",
      "BSAm2                    72\n",
      "IVSdcm                   80\n",
      "LVIDdcm                  80\n",
      "LVPWdcm                  80\n",
      "LVIDscm                 104\n",
      "LVMI                     91\n",
      "LAVI                    146\n",
      "LVEDV MOD Bip (mL)      156\n",
      "LVESV MOD Bip (mL)      151\n",
      "LVEF                    155\n",
      "MV-E (cm/sec)           617\n",
      "MV-A (cm/sec)           691\n",
      "EAratio                 284\n",
      "MVDecT (ms)             262\n",
      "PWTDI e' lateral        196\n",
      "PWTDI e' septal         182\n",
      "TAPSEmm                 344\n",
      "TrVmax m/sec            581\n",
      "RVSPTRmmHg              967\n",
      "Ad                      723\n",
      "LAVolume2Dml            654\n",
      "ASeptalcms              691\n",
      "SSeptalcms              632\n",
      "ALateralcms             696\n",
      "SLateralcms             890\n",
      "LVOTDiametercm          655\n",
      "LVOTVTIcm               618\n",
      "AVPeakGradientmmHg      633\n",
      "AVMeanGradientmmHg      645\n",
      "LVMassg                 616\n",
      "Unnamed: 37            1110\n",
      "RVdbasalcm              671\n",
      "RVDiametercm            674\n",
      "TVScms                  685\n",
      "MaxScms                 805\n",
      "IVRTms                  664\n",
      "LAAreacm2              1073\n",
      "RVSPmmHg                726\n",
      "EWaveMaxVelocitycms     744\n",
      "AWaveMaxVelocitycms     785\n",
      "Decelerationms          749\n",
      "visit_date                0\n",
      "death_date              823\n",
      "days_to_event           823\n",
      "days_to_event(all)        0\n",
      "A4C_video_path          122\n",
      "heart_rate              122\n",
      "fileID                    0\n",
      "PLAX_video_path         113\n",
      "dtype: int64\n"
     ]
    }
   ],
   "source": [
    "AlbertaData['PLAX_video_path'] = video_id\n",
    "print(AlbertaData.isnull().sum(axis = 0))"
   ]
  },
  {
   "cell_type": "code",
   "execution_count": 16,
   "id": "tight-effectiveness",
   "metadata": {},
   "outputs": [
    {
     "data": {
      "text/plain": [
       "159"
      ]
     },
     "execution_count": 16,
     "metadata": {},
     "output_type": "execute_result"
    }
   ],
   "source": [
    "len(AlbertaData.loc[AlbertaData['death_date'].notnull()]['StudyNumber'].unique())"
   ]
  },
  {
   "cell_type": "code",
   "execution_count": 17,
   "id": "acoustic-beijing",
   "metadata": {},
   "outputs": [
    {
     "name": "stdout",
     "output_type": "stream",
     "text": [
      "The total number of Patients without a death date  823\n",
      "The total number of Patients with a death date  287\n",
      "The total number of alive patients within one year is  1089\n",
      "The total number of patients with one year mortality  21\n"
     ]
    }
   ],
   "source": [
    "#without removing the null values\n",
    "print(\"The total number of Patients without a death date \", len(AlbertaData.loc[AlbertaData['death_date'].isnull()]))\n",
    "print(\"The total number of Patients with a death date \", len(AlbertaData.loc[AlbertaData['death_date'].notnull()]))\n",
    "print(\"The total number of alive patients within one year is \", len(AlbertaData.loc[AlbertaData['days_to_event(all)']>=365]))\n",
    "print(\"The total number of patients with one year mortality \", len(AlbertaData.loc[(AlbertaData['death_date'].notnull()) & (AlbertaData['days_to_event(all)']<=365)]))"
   ]
  },
  {
   "cell_type": "code",
   "execution_count": 18,
   "id": "brutal-address",
   "metadata": {},
   "outputs": [],
   "source": [
    "AlbertaData.to_csv('Generated_csv_files/AlbertaData_Mortality_all.csv')"
   ]
  },
  {
   "cell_type": "code",
   "execution_count": 19,
   "id": "chief-bulletin",
   "metadata": {},
   "outputs": [],
   "source": [
    "AlbertaData_PLAX = AlbertaData.dropna(axis=0, subset=['PLAX_video_path']).reset_index(drop=True)\n",
    "AlbertaData_PLAX.to_csv('Generated_csv_files/AlbertaData_Mortality_PLAX.csv')\n",
    "AlbertaData_PLAX = AlbertaData_PLAX.sort_values(by=['StudyNumber','EventName']).reset_index(drop=True)"
   ]
  },
  {
   "cell_type": "code",
   "execution_count": 20,
   "id": "helpful-collaboration",
   "metadata": {},
   "outputs": [
    {
     "data": {
      "text/plain": [
       "(997, 595)"
      ]
     },
     "execution_count": 20,
     "metadata": {},
     "output_type": "execute_result"
    }
   ],
   "source": [
    "len(AlbertaData_PLAX),len(AlbertaData_PLAX['StudyNumber'].unique())"
   ]
  },
  {
   "cell_type": "code",
   "execution_count": 21,
   "id": "characteristic-strategy",
   "metadata": {},
   "outputs": [
    {
     "name": "stdout",
     "output_type": "stream",
     "text": [
      "The total number of Patients without a death date  727\n",
      "The total number of Patients with a death date  270\n",
      "The total number of alive patients within one year is  918\n",
      "The total number of patients with one year mortality  80\n",
      "Obs                      0\n",
      "StudyNumber              0\n",
      "EventName                0\n",
      "Gender                   0\n",
      "AgeatEnrollment          0\n",
      "Heightcm                 8\n",
      "Weightkg                 8\n",
      "BSAm2                    8\n",
      "IVSdcm                  13\n",
      "LVIDdcm                 13\n",
      "LVPWdcm                 13\n",
      "LVIDscm                 35\n",
      "LVMI                    21\n",
      "LAVI                    72\n",
      "LVEDV MOD Bip (mL)      89\n",
      "LVESV MOD Bip (mL)      84\n",
      "LVEF                    88\n",
      "MV-E (cm/sec)          527\n",
      "MV-A (cm/sec)          597\n",
      "EAratio                209\n",
      "MVDecT (ms)            183\n",
      "PWTDI e' lateral       127\n",
      "PWTDI e' septal        114\n",
      "TAPSEmm                264\n",
      "TrVmax m/sec           492\n",
      "RVSPTRmmHg             860\n",
      "Ad                     630\n",
      "LAVolume2Dml           559\n",
      "ASeptalcms             598\n",
      "SSeptalcms             543\n",
      "ALateralcms            604\n",
      "SLateralcms            787\n",
      "LVOTDiametercm         564\n",
      "LVOTVTIcm              529\n",
      "AVPeakGradientmmHg     543\n",
      "AVMeanGradientmmHg     555\n",
      "LVMassg                525\n",
      "Unnamed: 37            997\n",
      "RVdbasalcm             574\n",
      "RVDiametercm           583\n",
      "TVScms                 587\n",
      "MaxScms                708\n",
      "IVRTms                 574\n",
      "LAAreacm2              962\n",
      "RVSPmmHg               632\n",
      "EWaveMaxVelocitycms    651\n",
      "AWaveMaxVelocitycms    689\n",
      "Decelerationms         656\n",
      "visit_date               0\n",
      "death_date             727\n",
      "days_to_event          727\n",
      "days_to_event(all)       0\n",
      "A4C_video_path          12\n",
      "heart_rate              12\n",
      "fileID                   0\n",
      "PLAX_video_path          0\n",
      "dtype: int64\n"
     ]
    }
   ],
   "source": [
    "#without removing the null values\n",
    "time_line = 365*3\n",
    "print(\"The total number of Patients without a death date \", len(AlbertaData_PLAX.loc[AlbertaData_PLAX['death_date'].isnull()]))\n",
    "print(\"The total number of Patients with a death date \", len(AlbertaData_PLAX.loc[AlbertaData_PLAX['death_date'].notnull()]))\n",
    "print(\"The total number of alive patients within one year is \", len(AlbertaData_PLAX.loc[AlbertaData_PLAX['days_to_event(all)']>=time_line]))\n",
    "print(\"The total number of patients with one year mortality \", len(AlbertaData_PLAX.loc[(AlbertaData_PLAX['death_date'].notnull()) & (AlbertaData_PLAX['days_to_event(all)']<=time_line)]))\n",
    "print(AlbertaData_PLAX.isnull().sum(axis = 0))"
   ]
  },
  {
   "cell_type": "code",
   "execution_count": 22,
   "id": "stopped-acting",
   "metadata": {},
   "outputs": [
    {
     "name": "stdout",
     "output_type": "stream",
     "text": [
      "Patients with a mortality is  79\n",
      "Patients without a mortality is  918\n"
     ]
    }
   ],
   "source": [
    "AlbertaData_time_year = AlbertaData_PLAX.loc[((AlbertaData_PLAX['days_to_event(all)']>=time_line)) | ((AlbertaData_PLAX['death_date'].notnull()) & (AlbertaData_PLAX['days_to_event(all)']<=time_line))].reset_index(drop=True)\n",
    "mortality = []\n",
    "for i in range(len(AlbertaData_time_year)):\n",
    "    if(AlbertaData_time_year['days_to_event(all)'][i]>=time_line):\n",
    "        mortality.append(0)\n",
    "    elif(AlbertaData_time_year['days_to_event'][i]<time_line):\n",
    "        mortality.append(1)\n",
    "    else:\n",
    "        print(i)\n",
    "AlbertaData_time_year['mortality'] = mortality\n",
    "print(\"Patients with a mortality is \",len(AlbertaData_time_year.loc[AlbertaData_time_year['mortality']==1]))\n",
    "print(\"Patients without a mortality is \",len(AlbertaData_time_year.loc[AlbertaData_time_year['mortality']==0]))\n",
    "death_pid = list(AlbertaData_time_year.loc[AlbertaData_time_year['mortality']==1]['StudyNumber'].unique())\n",
    "data_death_pid  = AlbertaData_time_year[AlbertaData_time_year['StudyNumber'].isin(death_pid)]\n",
    "data_death_pid = data_death_pid.drop_duplicates(subset='StudyNumber', keep=\"first\").reset_index()\n",
    "AlbertaData_time_year = AlbertaData_time_year[~AlbertaData_time_year['StudyNumber'].isin(death_pid)]\n",
    "frames = [AlbertaData_time_year, data_death_pid]\n",
    "result = pd.concat(frames,sort=False)"
   ]
  },
  {
   "cell_type": "code",
   "execution_count": 23,
   "id": "advanced-maria",
   "metadata": {},
   "outputs": [],
   "source": [
    "result.to_csv('Generated_csv_files/Alberta_mortality_' + str(time_line) + '_days.csv')"
   ]
  },
  {
   "cell_type": "code",
   "execution_count": 24,
   "id": "organic-shakespeare",
   "metadata": {},
   "outputs": [
    {
     "data": {
      "text/plain": [
       "595"
      ]
     },
     "execution_count": 24,
     "metadata": {},
     "output_type": "execute_result"
    }
   ],
   "source": [
    "len(result['StudyNumber'].unique())"
   ]
  },
  {
   "cell_type": "code",
   "execution_count": 25,
   "id": "ready-concrete",
   "metadata": {},
   "outputs": [
    {
     "data": {
      "text/plain": [
       "61"
      ]
     },
     "execution_count": 25,
     "metadata": {},
     "output_type": "execute_result"
    }
   ],
   "source": [
    "len(result.loc[result['mortality']==1]['StudyNumber'].unique())"
   ]
  },
  {
   "cell_type": "code",
   "execution_count": 26,
   "id": "derived-pleasure",
   "metadata": {},
   "outputs": [
    {
     "data": {
      "text/plain": [
       "534"
      ]
     },
     "execution_count": 26,
     "metadata": {},
     "output_type": "execute_result"
    }
   ],
   "source": [
    "len(result.loc[result['mortality']==0]['StudyNumber'].unique())"
   ]
  },
  {
   "cell_type": "code",
   "execution_count": 27,
   "id": "suitable-victoria",
   "metadata": {},
   "outputs": [
    {
     "data": {
      "text/plain": [
       "955"
      ]
     },
     "execution_count": 27,
     "metadata": {},
     "output_type": "execute_result"
    }
   ],
   "source": [
    "len(result)"
   ]
  },
  {
   "cell_type": "markdown",
   "id": "falling-chancellor",
   "metadata": {},
   "source": [
    "# Getting the Ejection Fraction Values From the Data"
   ]
  },
  {
   "cell_type": "code",
   "execution_count": 27,
   "id": "occupied-literacy",
   "metadata": {},
   "outputs": [
    {
     "name": "stdout",
     "output_type": "stream",
     "text": [
      "checking the PID's that dont have a visit after 12 months and removing those PID's \n",
      " \n",
      "overlapping PID's is 596\n",
      "matching PID's is 356\n",
      "PID's that dont have a study after 12 months is 215\n",
      "PID's that dont have a baseline is  25\n",
      "\n",
      "Sanity check to see if only the Patients that have atleast 2 visits are present in the dataset \n",
      " \n",
      "overlapping PID's is 356\n",
      "matching PID's is 356\n",
      "PID's that dont have a study after 12 months is 0\n"
     ]
    }
   ],
   "source": [
    "AlbertaData_Ef = AlbertaData.dropna(axis=0, subset=['LVEF','LVESV MOD Bip (mL)']).reset_index(drop=True)\n",
    "AlbertaData_Ef['LVEF'] = pd.to_numeric(AlbertaData_Ef['LVEF'],errors='coerce')\n",
    "AlbertaData_Ef = AlbertaData_Ef .loc[AlbertaData_Ef['LVEF']>0].reset_index(drop=True)\n",
    "AlbertaData_Ef = AlbertaData_Ef.sort_values(by=['StudyNumber','EventName']).reset_index(drop=True)\n",
    "masterdata = AlbertaData_Ef.copy(deep=True)\n",
    "baseline = masterdata.loc[masterdata['EventName']=='Baseline'].reset_index(drop=True)\n",
    "after_12_months = masterdata.loc[masterdata['EventName']=='12 month'].reset_index(drop=True)\n",
    "\n",
    "print(\"checking the PID's that dont have a visit after 12 months and removing those PID's \\n \")\n",
    "baseline_PID = set(baseline['StudyNumber'].unique())\n",
    "after_12_months_PID = set(after_12_months['StudyNumber'].unique())\n",
    "print(\"overlapping PID's is\", len(baseline_PID.union(after_12_months_PID)))\n",
    "print(\"matching PID's is\", len(baseline_PID.intersection(after_12_months_PID)))\n",
    "print(\"PID's that dont have a study after 12 months is\", len(baseline_PID - after_12_months_PID))\n",
    "print(\"PID's that dont have a baseline is \", len(after_12_months_PID - baseline_PID))\n",
    "\n",
    "total_pid = list(baseline_PID - after_12_months_PID) + list(after_12_months_PID - baseline_PID)\n",
    "#getting the PID that have a 12 months visit\n",
    "df_with_12_months_event = pd.DataFrame()\n",
    "for i in range(len(masterdata)):\n",
    "    if(not (masterdata['StudyNumber'][i] in list(total_pid))):\n",
    "        df_with_12_months_event = df_with_12_months_event.append(masterdata[i:i+1])\n",
    "        \n",
    "masterdata = df_with_12_months_event.reset_index(drop=True)\n",
    "\n",
    "    \n",
    "baseline = masterdata.loc[masterdata['EventName']=='Baseline'].reset_index(drop=True)\n",
    "after_12_months = masterdata.loc[masterdata['EventName']=='12 month'].reset_index(drop=True)\n",
    "\n",
    "print(\"\\nSanity check to see if only the Patients that have atleast 2 visits are present in the dataset \\n \")\n",
    "baseline_PID = set(baseline['StudyNumber'].unique())\n",
    "after_12_months_PID = set(after_12_months['StudyNumber'].unique())\n",
    "print(\"overlapping PID's is\", len(baseline_PID.union(after_12_months_PID)))\n",
    "print(\"matching PID's is\", len(baseline_PID.intersection(after_12_months_PID)))\n",
    "print(\"PID's that dont have a study after 12 months is\", len(baseline_PID - after_12_months_PID))"
   ]
  },
  {
   "cell_type": "code",
   "execution_count": 28,
   "id": "operational-guitar",
   "metadata": {},
   "outputs": [
    {
     "name": "stdout",
     "output_type": "stream",
     "text": [
      "total class 0 is 98\n",
      "total class 1 is 111\n",
      "total class 2 is 147\n",
      "train set should contain 284.8\n",
      "test set should contain 71.2\n"
     ]
    }
   ],
   "source": [
    "masterdata = masterdata.rename(columns={\"StudyNumber\":\"PatientID\", \"PLAX_video_path\":\"PLAX_video_id\"})\n",
    "masterdata = masterdata.drop(['Obs'],axis=1)\n",
    "masterdata['IVSdcm'] = masterdata['IVSdcm']*10\n",
    "masterdata['LVPWdcm'] = masterdata['LVPWdcm']*10\n",
    "masterdata['LVIDdcm'] = masterdata['LVIDdcm']*10\n",
    "masterdata['LVIDscm'] = masterdata['LVIDscm']*10\n",
    "masterdata = masterdata.rename(columns=\n",
    "                          {\"IVSdcm\": \"Ivs\", \n",
    "                           \"LVPWdcm\": \"Lvpw\",\n",
    "                          \"LVIDdcm\":\"Lvidd\",\n",
    "                          \"LVIDscm\":\"Lvids\",\n",
    "                          \"LVEDV MOD Bip (mL)\":\"Lvedv\",\n",
    "                          \"LVESV MOD Bip (mL)\":\"Lvesv\",\n",
    "                          \"heart_rate\":\"Hr\",\n",
    "                          \"Decelerationms\":\"Dt\",\n",
    "                          \"IVRTms\":\"Ivrt\",\n",
    "                          \"MV-E (cm/sec)\":\"E\",\n",
    "                          \"MV-A (cm/sec)\":\"A\",\n",
    "                          \"PWTDI e\\' lateral\":\"TDI_e_lateral\",\n",
    "                          \"PWTDI e\\' septal\":\"TDI_e_septal\",\n",
    "                           \"Gender\":\"gender\",\n",
    "                          \"AgeatEnrollment\":\"age\",\n",
    "                           \"LVEF\":\"Ef\",\n",
    "                          \"LAVolume2Dml\":\"LA_MAX_VOLUME\",\n",
    "                          \"TrVmax m/sec\":\"TR_VELOCITY\",\n",
    "                           \"EventName\":\"Event_Name\"})\n",
    "columns_to_train = ['Ivs',\n",
    "                    'Lvpw',\n",
    "                    'Lvidd',\n",
    "                    'Lvids',\n",
    "                    'Lvedv',\n",
    "                    'Lvesv',\n",
    "                    'Hr',\n",
    "                    'Dt',\n",
    "                    'Ivrt',\n",
    "                    'E',\n",
    "                    'A',\n",
    "                    'TDI_e_lateral',\n",
    "                    'TDI_e_septal',\n",
    "                    'gender',\n",
    "                    'age',\n",
    "                    'LA_MAX_VOLUME',\n",
    "                    'TR_VELOCITY',\n",
    "                    'Ef']\n",
    "\n",
    "for col in columns_to_train:\n",
    "    if(col=='gender'):\n",
    "        continue\n",
    "    masterdata[col] = pd.to_numeric(masterdata[col],errors='coerce')\n",
    "\n",
    "masterdata = masterdata.replace(r'^\\s*$', np.nan, regex=True)\n",
    "DataFrame = get_train_val_dataset(masterdata)"
   ]
  },
  {
   "cell_type": "code",
   "execution_count": 29,
   "id": "civilian-weekend",
   "metadata": {},
   "outputs": [],
   "source": [
    "DataFrame.to_csv('Generated_csv_files/Alberta_EF_within_365_days_with_' + str(time_line) + '_mortality.csv')"
   ]
  }
 ],
 "metadata": {
  "kernelspec": {
   "display_name": "Python 3 (ipykernel)",
   "language": "python",
   "name": "python3"
  },
  "language_info": {
   "codemirror_mode": {
    "name": "ipython",
    "version": 3
   },
   "file_extension": ".py",
   "mimetype": "text/x-python",
   "name": "python",
   "nbconvert_exporter": "python",
   "pygments_lexer": "ipython3",
   "version": "3.8.6"
  }
 },
 "nbformat": 4,
 "nbformat_minor": 5
}
